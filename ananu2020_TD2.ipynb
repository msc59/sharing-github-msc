{
 "cells": [
  {
   "cell_type": "markdown",
   "metadata": {},
   "source": [
    "Exos Analyse mai 2020 - TD2 Recherche de zéros\n",
    "===============\n",
    "version du 13 mai 2020\n",
    "\n",
    "Outils implémentés à l'aide de `sympy`\n",
    "\n",
    "Exercice 2 : Nombre d’entiers\n",
    "--------\n",
    "\n",
    "Combien y a-t-il de nombres impairs entre 179 et 1243 ? De nombres pairs ?"
   ]
  },
  {
   "cell_type": "code",
   "execution_count": 1,
   "metadata": {},
   "outputs": [],
   "source": [
    "# Pour tracer les courbes\n",
    "import numpy as np\n",
    "import matplotlib.pyplot as plt\n",
    "# Pour les calculs formels\n",
    "from sympy import *\n",
    "#  pour automatiquement afficher les résultats avec jsmath\n",
    "init_printing()"
   ]
  },
  {
   "cell_type": "code",
   "execution_count": 2,
   "metadata": {},
   "outputs": [
    {
     "name": "stdout",
     "output_type": "stream",
     "text": [
      "nb d'entiers         entre 179 et 1243 : 1065\n",
      "attention : 1243-179=1064\n",
      "nb d'entiers impairs entre 179 et 1243 : 533\n",
      "nb d'entiers   pairs entre 179 et 1243 : 532\n"
     ]
    }
   ],
   "source": [
    "a,b=179,1243\n",
    "print(\"nb d'entiers         entre %s et %s : %s\"%(a,b,len([i for i in range(a,b+1)])))\n",
    "print(\"attention : %s-%s=%s\"%(b,a,b-a))\n",
    "print(\"nb d'entiers impairs entre %s et %s : %s\"%(a,b,len([i for i in range(a,b+1) if i%2==1])))\n",
    "print(\"nb d'entiers   pairs entre %s et %s : %s\"%(a,b,len([i for i in range(a,b+1) if i%2==0])))"
   ]
  },
  {
   "cell_type": "markdown",
   "metadata": {},
   "source": [
    "Exercice 3: Sommes des termes d’une suite arithmétique \n",
    "------------\n",
    "\n",
    "Calculer S0 = 1 + 3/2 + 2 +  ... + 29/2\n",
    "\n",
    "Calculer S1 = 1/3 + 1 + 5/3 + ... + 19/3 + 7\n",
    "\n",
    "Calculer la somme des entiers multiples de 5 qui sont plus grands que 99 et plus petits que 999.\n",
    "\n",
    "Une suite arithmétique est telle que  $u_0 = 2$ et $\\sum_{i=3}^{i=n}u_i = 6456$. \n",
    "Sa raison est 5, que vaut $n$ ?\n",
    "\n",
    "Une suite arithmétique est telle que u0 = 2 et ??? ui = 1457. Que vaut sa raison ?"
   ]
  },
  {
   "cell_type": "code",
   "execution_count": 3,
   "metadata": {},
   "outputs": [
    {
     "name": "stdout",
     "output_type": "stream",
     "text": [
      "[] (0 terme)\n",
      "[1] (1 terme)\n",
      "[2, 3, 4] (3 termes)\n",
      "[1000, 1001, 1002, 1003, ... , 9996, 9997, 9998, 9999] (9000 termes)\n"
     ]
    }
   ],
   "source": [
    "def resumeliste(l) : \n",
    "    if len(l)<2 : \n",
    "        return \"%s (%s terme)\"%(l,len(l))\n",
    "    elif len(l) < 11 : \n",
    "        return \"%s (%s termes)\"%(l,len(l))\n",
    "    else : \n",
    "        return \"[%s, %s, %s, %s, ... , %s, %s, %s, %s] (%s termes)\"%(l[0],l[1],l[2],l[3],l[-4],l[-3],l[-2],l[-1],len(l))\n",
    "print(resumeliste([]))\n",
    "print(resumeliste([1]))\n",
    "print(resumeliste([2,3,4]))\n",
    "print(resumeliste([i for i in range(1000,10000)]))"
   ]
  },
  {
   "cell_type": "code",
   "execution_count": 4,
   "metadata": {},
   "outputs": [
    {
     "name": "stdout",
     "output_type": "stream",
     "text": [
      "[1, 3/2, 2, 5/2, ... , 13, 27/2, 14, 29/2] (28 termes)\n",
      "217\n"
     ]
    }
   ],
   "source": [
    "l=[Rational(i,2) for i in range(2,30)]\n",
    "#print(' + '.join([str(t) for t in l]))\n",
    "print(resumeliste(l))\n",
    "print(sum(l))"
   ]
  },
  {
   "cell_type": "code",
   "execution_count": 5,
   "metadata": {},
   "outputs": [
    {
     "name": "stdout",
     "output_type": "stream",
     "text": [
      "[1/3, 1, 5/3, 7/3, ... , 5, 17/3, 19/3, 7] (11 termes)\n",
      "121/3\n"
     ]
    }
   ],
   "source": [
    "l=[Rational(1+2*i,3) for i in range(0,11)]\n",
    "print(resumeliste(l))\n",
    "print(sum(l))"
   ]
  },
  {
   "cell_type": "code",
   "execution_count": 6,
   "metadata": {},
   "outputs": [
    {
     "name": "stdout",
     "output_type": "stream",
     "text": [
      "[100, 105, 110, 115, ... , 980, 985, 990, 995] (180 termes)\n",
      "98550\n"
     ]
    }
   ],
   "source": [
    "l=[5*i for i in range(20,200)]\n",
    "print(resumeliste(l))\n",
    "print(sum(l))"
   ]
  },
  {
   "cell_type": "code",
   "execution_count": 7,
   "metadata": {},
   "outputs": [
    {
     "name": "stdout",
     "output_type": "stream",
     "text": [
      "50 6456\n"
     ]
    }
   ],
   "source": [
    "u = lambda i : 2+5*i\n",
    "n,s=3,u(3)\n",
    "while s< 6456 : \n",
    "    n+=1\n",
    "    s+=u(n)\n",
    "print(n,s)"
   ]
  },
  {
   "cell_type": "code",
   "execution_count": 8,
   "metadata": {},
   "outputs": [
    {
     "name": "stdout",
     "output_type": "stream",
     "text": [
      "[17, 22, 27, 32, ... , 237, 242, 247, 252] (48 termes)\n",
      "6456\n"
     ]
    }
   ],
   "source": [
    "l=[2+5*i for i in range(3,51)]\n",
    "print(resumeliste(l))\n",
    "print(sum(l))"
   ]
  },
  {
   "cell_type": "code",
   "execution_count": 9,
   "metadata": {},
   "outputs": [
    {
     "name": "stdout",
     "output_type": "stream",
     "text": [
      "[2, r + 2, 2*r + 2, 3*r + 2, ... , 27*r + 2, 28*r + 2, 29*r + 2, 30*r + 2] (31 termes)\n",
      "465*r + 62\n"
     ]
    }
   ],
   "source": [
    "r=Symbol('r')\n",
    "l = [2+r*i for i in range(0,31)]\n",
    "print(resumeliste(l))\n",
    "print(sum(l))"
   ]
  },
  {
   "cell_type": "code",
   "execution_count": 10,
   "metadata": {},
   "outputs": [
    {
     "data": {
      "image/png": "[encoded data removed]",
      "text/latex": [
       "$\\displaystyle \\left[ 3\\right]$"
      ],
      "text/plain": [
       "[3]"
      ]
     },
     "execution_count": 10,
     "metadata": {},
     "output_type": "execute_result"
    }
   ],
   "source": [
    "solve(465*r+62-1457,r)"
   ]
  },
  {
   "cell_type": "code",
   "execution_count": 11,
   "metadata": {},
   "outputs": [
    {
     "name": "stdout",
     "output_type": "stream",
     "text": [
      "[2, 5, 8, 11, ... , 83, 86, 89, 92] (31 termes)\n",
      "1457\n"
     ]
    }
   ],
   "source": [
    "r = 3\n",
    "l = [2+r*i for i in range(0,31)]\n",
    "print(resumeliste(l))\n",
    "print(sum(l))"
   ]
  },
  {
   "cell_type": "markdown",
   "metadata": {},
   "source": [
    "Exercice 5: Sommes des termes d’une suite géométrique\n",
    "--------------\n",
    "* Calculer S1 = 18+54+162+...+39366.\n",
    "* Calculer S2 = √2−2+2√2...−64+64√2−128.\n",
    "* Calculer S3=2^7+2^8+2^9+..+2^21 "
   ]
  },
  {
   "cell_type": "code",
   "execution_count": 12,
   "metadata": {},
   "outputs": [
    {
     "data": {
      "image/png": "[encoded data removed]",
      "text/latex": [
       "$\\displaystyle \\left[ 8\\right]$"
      ],
      "text/plain": [
       "[8]"
      ]
     },
     "execution_count": 12,
     "metadata": {},
     "output_type": "execute_result"
    }
   ],
   "source": [
    "i=Symbol('i')\n",
    "solve(6*3**i-39366,i)"
   ]
  },
  {
   "cell_type": "code",
   "execution_count": 13,
   "metadata": {},
   "outputs": [
    {
     "name": "stdout",
     "output_type": "stream",
     "text": [
      "[6, 18, 54, 162, 486, 1458, 4374, 13122, 39366] (9 termes)\n",
      "59046\n"
     ]
    }
   ],
   "source": [
    "l = [6*3**i for i in range(0,9)]\n",
    "print(resumeliste(l))\n",
    "print(sum(l))"
   ]
  },
  {
   "cell_type": "code",
   "execution_count": 14,
   "metadata": {},
   "outputs": [
    {
     "name": "stdout",
     "output_type": "stream",
     "text": [
      "[sqrt(2), -2, 2*sqrt(2), -4, ... , 32*sqrt(2), -64, 64*sqrt(2), -128] (14 termes)\n",
      "-254 + 127*sqrt(2)\n"
     ]
    }
   ],
   "source": [
    "rac2=-sqrt(2)\n",
    "l = [-rac2**i for i in range(1,15)]\n",
    "print(resumeliste(l))\n",
    "print(sum(l))"
   ]
  },
  {
   "cell_type": "code",
   "execution_count": 15,
   "metadata": {},
   "outputs": [
    {
     "name": "stdout",
     "output_type": "stream",
     "text": [
      "[128, 256, 512, 1024, ... , 262144, 524288, 1048576, 2097152] (15 termes)\n",
      "4194176\n"
     ]
    }
   ],
   "source": [
    "l = [2**i for i in range(7,22)]\n",
    "print(resumeliste(l))\n",
    "print(sum(l))"
   ]
  },
  {
   "cell_type": "code",
   "execution_count": 16,
   "metadata": {},
   "outputs": [
    {
     "name": "stdout",
     "output_type": "stream",
     "text": [
      "4194303 - 127 = 4194176\n"
     ]
    }
   ],
   "source": [
    "a,b=2**7-1,2**22-1\n",
    "print(\"%s - %s = %s\"%(b,a,b-a))"
   ]
  },
  {
   "cell_type": "code",
   "execution_count": null,
   "metadata": {},
   "outputs": [],
   "source": []
  },
  {
   "cell_type": "code",
   "execution_count": 17,
   "metadata": {},
   "outputs": [
    {
     "name": "stdout",
     "output_type": "stream",
     "text": [
      "4194176\n"
     ]
    }
   ],
   "source": [
    "print(2**7 * (2**15 - 1) )"
   ]
  },
  {
   "cell_type": "code",
   "execution_count": 18,
   "metadata": {},
   "outputs": [
    {
     "name": "stdout",
     "output_type": "stream",
     "text": [
      "[7, 8, 9, 10, 11, 12, 13, 14, 15, 16, 17, 18, 19, 20, 21]\n"
     ]
    }
   ],
   "source": [
    "print( [i for i in range(7,22)])"
   ]
  },
  {
   "cell_type": "code",
   "execution_count": 19,
   "metadata": {},
   "outputs": [
    {
     "name": "stdout",
     "output_type": "stream",
     "text": [
      "[128, 256, 512, 1024, 2048, 4096, 8192, 16384, 32768, 65536, 131072, 262144, 524288, 1048576, 2097152]\n"
     ]
    }
   ],
   "source": [
    "print( [2**i for i in range(7,22)])"
   ]
  },
  {
   "cell_type": "code",
   "execution_count": 20,
   "metadata": {},
   "outputs": [
    {
     "name": "stdout",
     "output_type": "stream",
     "text": [
      "4194176\n"
     ]
    }
   ],
   "source": [
    "print( sum([2**i for i in range(7,22)]) )"
   ]
  },
  {
   "cell_type": "code",
   "execution_count": 21,
   "metadata": {},
   "outputs": [
    {
     "name": "stdout",
     "output_type": "stream",
     "text": [
      "18\n",
      "54\n",
      "162\n",
      "486\n",
      "1458\n",
      "4374\n",
      "13122\n",
      "39366\n",
      "118098\n",
      "354294\n"
     ]
    }
   ],
   "source": [
    "u = 18\n",
    "while u<1000000 : \n",
    "    print(u)\n",
    "    u = 3*u"
   ]
  },
  {
   "cell_type": "code",
   "execution_count": 22,
   "metadata": {},
   "outputs": [
    {
     "data": {
      "image/png": "[encoded data removed]",
      "text/latex": [
       "$\\displaystyle 7.0$"
      ],
      "text/plain": [
       "7.00000000000000"
      ]
     },
     "execution_count": 22,
     "metadata": {},
     "output_type": "execute_result"
    }
   ],
   "source": [
    "log(39366/18)/log(3.0)"
   ]
  },
  {
   "cell_type": "code",
   "execution_count": 23,
   "metadata": {},
   "outputs": [
    {
     "name": "stdout",
     "output_type": "stream",
     "text": [
      "59040.0\n",
      "59040\n"
     ]
    }
   ],
   "source": [
    "print(18*(1-3**8)/(1-3))\n",
    "print( sum( [18*3**i for i in range(0,8)] ) )"
   ]
  },
  {
   "cell_type": "markdown",
   "metadata": {},
   "source": [
    "Exercice 7 : Classique 1 - la légende de l’échiquier\n",
    "---------------------\n",
    "\n",
    "Le roi de Perse Sargon voulut récompenser l’inventeur du jeu d’échecs. \n",
    "Celui-ci demanda alors au roi de déposer un grain de blé sur la première case, 2 grains sur la seconde, 4 grains sur la troisième et ainsi de suite en doublant à chaque fois le nombre de grains jusqu’à la 64e case.\n",
    "\n",
    "* Combien de grains de blé devront être posés sur l’échiquier ?\n",
    "* En admettant que 1024 grains de blé pèsent 100 grammes, calculer la masse de ces grains de blé.\n",
    "* En supposant que la production française de blé est de 30 millions de tonnes par an, combien d’années de production faudrait-il pour remplir l’échiquier ?\n",
    "* Sachant que le roi pose un grain à la seconde, et qu’il commença lors du big-bang (il y a environ 13,7 milliards d’années), a-t-il aujourd’hui terminé ?"
   ]
  },
  {
   "cell_type": "code",
   "execution_count": 24,
   "metadata": {},
   "outputs": [
    {
     "name": "stdout",
     "output_type": "stream",
     "text": [
      "[1, 2, 4, 8, ... , 1152921504606846976, 2305843009213693952, 4611686018427387904, 9223372036854775808] (64 termes)\n",
      "18446744073709551615\n",
      "18446744073709551615 ≃ 1.84467e+19\n"
     ]
    }
   ],
   "source": [
    "l = [2**i for i in range(0,64)]\n",
    "print(resumeliste(l))\n",
    "print(sum(l))\n",
    "nbg=2**64-1\n",
    "print(\"%s ≃ %6g\"%(nbg,nbg))"
   ]
  },
  {
   "cell_type": "code",
   "execution_count": 25,
   "metadata": {},
   "outputs": [
    {
     "name": "stdout",
     "output_type": "stream",
     "text": [
      "nombre de grains         : 1.84467e+19\n",
      "en hectogrammes          : 1.80144e+16\n",
      "en millions de tonnes    : 1.80144e+06\n",
      "en années de production  :  60048\n",
      "âge univers en secondes  : 4.31155e+17\n",
      "ng grains / age univers en secondes : 42.7844\n"
     ]
    }
   ],
   "source": [
    "print(\"nombre de grains         : %6g\"%nbg)\n",
    "hg=nbg/1024\n",
    "print(\"en hectogrammes          : %6g\"%hg)\n",
    "mt=hg/10/1000/10**6\n",
    "print(\"en millions de tonnes    : %6g\"%mt)\n",
    "ap=mt/30\n",
    "print(\"en années de production  : %6g\"%ap)\n",
    "auens=13.7e9*364.25*24*60**2\n",
    "print(\"âge univers en secondes  : %6g\"%auens)\n",
    "print(\"ng grains / age univers en secondes : %6g\"%(nbg/auens))"
   ]
  },
  {
   "cell_type": "markdown",
   "metadata": {},
   "source": [
    "Exercice 9: Capital acquis\n",
    "----------------\n",
    "\n",
    "Dans le but de constituer un capital pour son petit-fils, la grand-mère de Félix décide de verser sur un compte\n",
    "rémunéré à intérêts composés au taux de 2% la somme de 1 000€ par an. Elle effectue son premier versement le jour de la naissance de Félix.\n",
    "\n",
    "* Quel âge aura Félix quand son capital dépassera 5000€?\n",
    "* Calculer le capital dont disposera Félix le jour de son 18e anniversaire.\n",
    "\n",
    "Première version récursive, deuxième avec *memoization*"
   ]
  },
  {
   "cell_type": "code",
   "execution_count": 26,
   "metadata": {},
   "outputs": [
    {
     "name": "stdout",
     "output_type": "stream",
     "text": [
      " 0    1000.00\n",
      " 1    2020.00\n",
      " 2    3060.40\n",
      " 3    4121.61\n",
      " 4    5204.04\n",
      " 5    6308.12\n",
      "18   22840.56\n"
     ]
    }
   ],
   "source": [
    "def capital(n,taux=1.02) : \n",
    "    if n==0 : \n",
    "        return 1000\n",
    "    else : \n",
    "        return 1000+taux*capital(n-1)\n",
    "for n in [0,1,2,3,4,5,18] : \n",
    "    print(\"%2s %10.2f\"%(n,capital(n)))"
   ]
  },
  {
   "cell_type": "code",
   "execution_count": 27,
   "metadata": {},
   "outputs": [
    {
     "name": "stdout",
     "output_type": "stream",
     "text": [
      "22840.55862638992\n",
      "{0: 1000, 1: 2020.0, 2: 3060.4, 3: 4121.608, 4: 5204.0401600000005, 5: 6308.120963200001, 6: 7434.283382464001, 7: 8582.96905011328, 8: 9754.628431115547, 9: 10949.720999737858, 10: 12168.715419732614, 11: 13412.089728127266, 12: 14680.331522689812, 13: 15973.938153143608, 14: 17293.41691620648, 15: 18639.28525453061, 16: 20012.070959621222, 17: 21412.312378813647, 18: 22840.55862638992}\n"
     ]
    }
   ],
   "source": [
    "memo={0:1000}\n",
    "def capital(n,taux=1.02) : \n",
    "    if n in memo : \n",
    "        return memo[n]\n",
    "    else : \n",
    "        reponse = 1000+taux*capital(n-1)\n",
    "        memo[n] = reponse\n",
    "        return reponse\n",
    "print(capital(18))\n",
    "print(memo)"
   ]
  },
  {
   "cell_type": "markdown",
   "metadata": {},
   "source": [
    "Idem mais avec un taux de 1% au lieu de 2%…"
   ]
  },
  {
   "cell_type": "code",
   "execution_count": 28,
   "metadata": {},
   "outputs": [
    {
     "name": "stdout",
     "output_type": "stream",
     "text": [
      "20810.895044353154\n",
      "{0: 1000, 1: 2010.0, 2: 3030.1, 3: 4060.401, 4: 5101.00501, 5: 6152.0150601, 6: 7213.535210700999, 7: 8285.670562808009, 8: 9368.52726843609, 9: 10462.21254112045, 10: 11566.834666531655, 11: 12682.50301319697, 12: 13809.32804332894, 13: 14947.42132376223, 14: 16096.895536999853, 15: 17257.864492369852, 16: 18430.44313729355, 17: 19614.747568666487, 18: 20810.895044353154}\n"
     ]
    }
   ],
   "source": [
    "memo={0:1000}\n",
    "def capital(n,taux=1.01) : \n",
    "    if n in memo : \n",
    "        return memo[n]\n",
    "    else : \n",
    "        reponse = 1000+taux*capital(n-1)\n",
    "        memo[n] = reponse\n",
    "        return reponse\n",
    "print(capital(18))\n",
    "print(memo)"
   ]
  },
  {
   "cell_type": "code",
   "execution_count": 29,
   "metadata": {},
   "outputs": [
    {
     "data": {
      "image/png": "[encoded data removed]",
      "text/latex": [
       "$\\displaystyle -49999.999999999956$"
      ],
      "text/plain": [
       "-49999.999999999956"
      ]
     },
     "execution_count": 29,
     "metadata": {},
     "output_type": "execute_result"
    }
   ],
   "source": [
    "1000/(1-1.02)"
   ]
  },
  {
   "cell_type": "markdown",
   "metadata": {},
   "source": [
    "Idem avec un taux de 10% : "
   ]
  },
  {
   "cell_type": "code",
   "execution_count": 30,
   "metadata": {},
   "outputs": [
    {
     "data": {
      "image/png": "[encoded data removed]",
      "text/latex": [
       "$\\displaystyle 22840.558626389946$"
      ],
      "text/plain": [
       "22840.558626389946"
      ]
     },
     "execution_count": 30,
     "metadata": {},
     "output_type": "execute_result"
    }
   ],
   "source": [
    "51000*1.02**18 - 50000"
   ]
  },
  {
   "cell_type": "code",
   "execution_count": 31,
   "metadata": {},
   "outputs": [
    {
     "name": "stdout",
     "output_type": "stream",
     "text": [
      "51159.09044841459\n",
      "{0: 1000, 1: 2100.0, 2: 3310.0, 3: 4641.0, 4: 6105.1, 5: 7715.610000000001, 6: 9487.171000000002, 7: 11435.888100000004, 8: 13579.476910000005, 9: 15937.424601000006, 10: 18531.167061100008, 11: 21384.28376721001, 12: 24522.712143931014, 13: 27974.983358324116, 14: 31772.48169415653, 15: 35949.72986357218, 16: 40544.7028499294, 17: 45599.17313492235, 18: 51159.09044841459}\n"
     ]
    }
   ],
   "source": [
    "memo={0:1000}\n",
    "def capital(n,taux=1.10) : \n",
    "    if n in memo : \n",
    "        return memo[n]\n",
    "    else : \n",
    "        reponse = 1000+taux*capital(n-1)\n",
    "        memo[n] = reponse\n",
    "        return reponse\n",
    "print(capital(18))\n",
    "print(memo)"
   ]
  },
  {
   "cell_type": "markdown",
   "metadata": {},
   "source": [
    "Exercice 14\n",
    "----------\n",
    "\n",
    "Résolution par dichotomie de x^3+x^2+2x-6=0\n",
    "\n",
    "On remarque que pour un polynôme de degré au plus 4 une résoltion par radicaux est en théorie accessible… mais pltôt indigeste : "
   ]
  },
  {
   "cell_type": "code",
   "execution_count": 32,
   "metadata": {},
   "outputs": [
    {
     "name": "stdout",
     "output_type": "stream",
     "text": [
      "- \\frac{1}{3} + \\left(- \\frac{1}{2} - \\frac{\\sqrt{3} i}{2}\\right) \\sqrt[3]{\\frac{89}{27} + \\frac{\\sqrt{894}}{9}} - \\frac{5}{9 \\left(- \\frac{1}{2} - \\frac{\\sqrt{3} i}{2}\\right) \\sqrt[3]{\\frac{89}{27} + \\frac{\\sqrt{894}}{9}}}\n",
      "- \\frac{1}{3} - \\frac{5}{9 \\left(- \\frac{1}{2} + \\frac{\\sqrt{3} i}{2}\\right) \\sqrt[3]{\\frac{89}{27} + \\frac{\\sqrt{894}}{9}}} + \\left(- \\frac{1}{2} + \\frac{\\sqrt{3} i}{2}\\right) \\sqrt[3]{\\frac{89}{27} + \\frac{\\sqrt{894}}{9}}\n"
     ]
    }
   ],
   "source": [
    "f = lambda x : x**3+x**2+2*x-6\n",
    "x=Symbol('x')\n",
    "lessols=solve(f(x),x)\n",
    "print(latex(lessols[0]))\n",
    "print(latex(lessols[1]))"
   ]
  },
  {
   "cell_type": "code",
   "execution_count": 33,
   "metadata": {},
   "outputs": [
    {
     "name": "stdout",
     "output_type": "stream",
     "text": [
      "-1/3 + (-1/2 - sqrt(3)*I/2)*(89/27 + sqrt(894)/9)**(1/3) - 5/(9*(-1/2 - sqrt(3)*I/2)*(89/27 + sqrt(894)/9)**(1/3))\n"
     ]
    }
   ],
   "source": [
    "print(lessols[0])"
   ]
  },
  {
   "cell_type": "code",
   "execution_count": 34,
   "metadata": {},
   "outputs": [
    {
     "data": {
      "image/png": "[encoded data removed]",
      "text/latex": [
       "$\\displaystyle - \\frac{1}{3} - \\frac{5}{9 \\left(- \\frac{1}{2} + \\frac{\\sqrt{3} i}{2}\\right) \\sqrt[3]{\\frac{89}{27} + \\frac{\\sqrt{894}}{9}}} + \\left(- \\frac{1}{2} + \\frac{\\sqrt{3} i}{2}\\right) \\sqrt[3]{\\frac{89}{27} + \\frac{\\sqrt{894}}{9}}$"
      ],
      "text/plain": [
       "                                                        ___________\n",
       "  1                 5                  ⎛  1   √3⋅ⅈ⎞    ╱ 89   √894 \n",
       "- ─ - ────────────────────────────── + ⎜- ─ + ────⎟⋅3 ╱  ── + ──── \n",
       "  3                      ___________   ⎝  2    2  ⎠ ╲╱   27    9   \n",
       "        ⎛  1   √3⋅ⅈ⎞    ╱ 89   √894                                \n",
       "      9⋅⎜- ─ + ────⎟⋅3 ╱  ── + ────                                \n",
       "        ⎝  2    2  ⎠ ╲╱   27    9                                  "
      ]
     },
     "execution_count": 34,
     "metadata": {},
     "output_type": "execute_result"
    }
   ],
   "source": [
    "lessols[1]"
   ]
  },
  {
   "cell_type": "code",
   "execution_count": 35,
   "metadata": {},
   "outputs": [
    {
     "data": {
      "image/png": "[encoded data removed]",
      "text/latex": [
       "$\\displaystyle \\left[ -1.12414891114227 - 1.88224188163544 i, \\  -1.12414891114227 + 1.88224188163544 i, \\  1.24829782228455\\right]$"
      ],
      "text/plain": [
       "[-1.12414891114227 - 1.88224188163544⋅ⅈ, -1.12414891114227 + 1.88224188163544⋅\n",
       "ⅈ, 1.24829782228455]"
      ]
     },
     "execution_count": 35,
     "metadata": {},
     "output_type": "execute_result"
    }
   ],
   "source": [
    "[N(_) for _ in lessols] "
   ]
  },
  {
   "cell_type": "code",
   "execution_count": 36,
   "metadata": {},
   "outputs": [
    {
     "data": {
      "image/png": "[encoded data removed]",
      "text/latex": [
       "$\\displaystyle \\left( 0, \\  \\frac{5}{3}, \\  - \\frac{178}{27}\\right)$"
      ],
      "text/plain": [
       "⎛        -178 ⎞\n",
       "⎜0, 5/3, ─────⎟\n",
       "⎝          27 ⎠"
      ]
     },
     "execution_count": 36,
     "metadata": {},
     "output_type": "execute_result"
    }
   ],
   "source": [
    "f   = lambda x :   x**3 + x**2 +2*x - 6\n",
    "df  = lambda x : 3*x**2 + 2*x  +2\n",
    "ddf = lambda x :    6*x + 2\n",
    "moinsuntiers=Rational(-1,3)\n",
    "ddf(moinsuntiers) , df(moinsuntiers) , f(moinsuntiers)"
   ]
  },
  {
   "cell_type": "code",
   "execution_count": null,
   "metadata": {},
   "outputs": [],
   "source": []
  },
  {
   "cell_type": "markdown",
   "metadata": {},
   "source": [
    "Une étude de la fonction $f = x \\mapsto x^{3} + x^{2} + 2 x - 6$\n",
    "permet de prouver que\n",
    "\n",
    "* il y a une seule solution réelle , \n",
    "* que cette solution (que nous noterons $\\alpha$) est comprise entre 1 et 2\n",
    "* que sur cet intervalle la fontion est croissante. "
   ]
  },
  {
   "cell_type": "code",
   "execution_count": 37,
   "metadata": {},
   "outputs": [
    {
     "data": {
      "image/png": "[encoded data removed]",
      "text/plain": [
       "<Figure size 1080x432 with 5 Axes>"
      ]
     },
     "metadata": {
      "needs_background": "light"
     },
     "output_type": "display_data"
    }
   ],
   "source": [
    "import matplotlib.patches as patches\n",
    "alpha=1.24829782228455\n",
    "fig, (ax0, ax1, ax2, ax3, ax4) = plt.subplots(1, 5,figsize=(15,6))\n",
    "x=Symbol('x')\n",
    "fig.suptitle(\"$f = x \\mapsto %s$\"%latex(f(x)))\n",
    "####\n",
    "t0 = np.linspace(-3      ,3     , 120)\n",
    "t1 = np.linspace( 1      ,2     , 120)\n",
    "t2 = np.linspace( 1      ,1.5   , 120)\n",
    "t3 = np.linspace( 1      ,1.25  , 120)\n",
    "t4 = np.linspace( 1.125  ,1.25  , 120)\n",
    "t5 = np.linspace( 1.1875 ,1.25  , 120)\n",
    "####\n",
    "ax0.plot(t0, f(t0), linewidth=1,color='blue')\n",
    "ax0.plot(t1, f(t1), linewidth=3,color='blue')\n",
    "ax0.grid()\n",
    "ax0.plot([alpha],[0],'r+', markersize=12)\n",
    "####\n",
    "ax1.plot(t1, f(t1), linewidth=1,color='blue')\n",
    "ax1.plot(t2, f(t2), linewidth=3,color='blue')\n",
    "ax1.grid()\n",
    "# Add rectangle\n",
    "ax1.add_patch(\n",
    "patches.Rectangle(\n",
    "(t2[0],f(t2[0])), # (x,y)\n",
    "t2[-1]-t2[0], # width\n",
    "f(t2[-1])-f(t2[0]), # height\n",
    "alpha=0.1, facecolor=\"blue\", edgecolor=\"blue\", linewidth=3, linestyle='solid'))\n",
    "ax1.plot([alpha],[0],'r+', markersize=12)\n",
    "####\n",
    "ax2.plot(t2, f(t2), linewidth=1,color='blue')\n",
    "ax2.plot(t3, f(t3), linewidth=3,color='blue')\n",
    "ax2.grid()\n",
    "# Add rectangle\n",
    "ax2.add_patch(\n",
    "patches.Rectangle(\n",
    "(t3[0],f(t3[0])), # (x,y)\n",
    "t3[-1]-t3[0], # width\n",
    "f(t3[-1])-f(t3[0]), # height\n",
    "alpha=0.1, facecolor=\"blue\", edgecolor=\"black\", linewidth=3, linestyle='solid'))\n",
    "ax2.plot([alpha],[0],'r+', markersize=12)\n",
    "####\n",
    "ax3.plot(t3, f(t3), linewidth=1,color='blue')\n",
    "ax3.plot(t4, f(t4), linewidth=3,color='blue')\n",
    "ax3.grid()\n",
    "# Add rectangle\n",
    "ax3.add_patch(\n",
    "patches.Rectangle(\n",
    "(t4[0],f(t4[0])), # (x,y)\n",
    "t4[-1]-t4[0], # width\n",
    "f(t4[-1])-f(t4[0]), # height\n",
    "alpha=0.1, facecolor=\"blue\", edgecolor=\"blue\", linewidth=3, linestyle='solid'))\n",
    "ax3.plot([alpha],[0],'r+', markersize=12)\n",
    "####\n",
    "ax4.plot(t4, f(t4), linewidth=1,color='blue')\n",
    "ax4.plot(t5, f(t5), linewidth=3,color='blue')\n",
    "ax4.grid()\n",
    "# Add rectangle\n",
    "ax4.add_patch(\n",
    "patches.Rectangle(\n",
    "(t5[0],f(t5[0])), # (x,y)\n",
    "t5[-1]-t5[0], # width\n",
    "f(t5[-1])-f(t5[0]), # height\n",
    "alpha=0.1, facecolor=\"blue\", edgecolor=\"blue\", linewidth=3, linestyle='solid'))\n",
    "ax4.plot([alpha],[0],'r+', markersize=12)\n",
    "####\n",
    "####\n",
    "plt.savefig('courbesexo14a.pdf')\n",
    "plt.show()"
   ]
  },
  {
   "cell_type": "code",
   "execution_count": 38,
   "metadata": {},
   "outputs": [
    {
     "name": "stdout",
     "output_type": "stream",
     "text": [
      "        i          a          b  c=(a+b)/2       f(c)   decision  \n",
      "        0  +1.000000  +2.000000  +1.500000  +2.625000     b=c\n",
      "        1  +1.000000  +1.500000  +1.250000  +0.015625     b=c\n",
      "        2  +1.000000  +1.250000  +1.125000  -1.060547     a=c\n",
      "        3  +1.125000  +1.250000  +1.187500  -0.540283     a=c\n",
      "        4  +1.187500  +1.250000  +1.218750  -0.266876     a=c\n",
      "        5  +1.218750  +1.250000  +1.234375  -0.126774     a=c\n",
      "        6  +1.234375  +1.250000  +1.242188  -0.055863     a=c\n",
      "        7  +1.242188  +1.250000  +1.246094  -0.020191     a=c\n",
      "        8  +1.246094  +1.250000  +1.248047  -0.002301     a=c\n",
      "        9  +1.248047  +1.250000  +1.249023  +0.006657     b=c\n",
      "       10  +1.248047  +1.249023  +1.248535  +0.002177     b=c\n",
      "       11  +1.248047  +1.248535  +1.248291  -0.000062     a=c\n",
      "       12  +1.248291  +1.248535  +1.248413  +0.001057     b=c\n",
      "       13  +1.248291  +1.248413  +1.248352  +0.000497     b=c\n",
      "       14  +1.248291  +1.248352  +1.248322  +0.000217     b=c\n",
      "       15  +1.248291  +1.248322  +1.248306  +0.000078     b=c\n",
      "       16  +1.248291  +1.248306  +1.248299  +0.000008     b=c\n",
      "       17  +1.248291  +1.248299  +1.248295  -0.000027     a=c\n",
      "       18  +1.248295  +1.248299  +1.248297  -0.000010     a=c\n",
      "       19  +1.248297  +1.248299  +1.248298  -0.000001     a=c\n"
     ]
    },
    {
     "data": {
      "image/png": "[encoded data removed]",
      "text/latex": [
       "$\\displaystyle 1.248298168182373$"
      ],
      "text/plain": [
       "1.248298168182373"
      ]
     },
     "execution_count": 38,
     "metadata": {},
     "output_type": "execute_result"
    }
   ],
   "source": [
    "def dicho(f,a,b,nbpas,format=\"%+.6f\",formatN=\"%9s\",formatI=\"%9i\") : \n",
    "    '''Donne un encadrement pour une solution \n",
    "    de f(x) == 0\n",
    "    avec f fonction continue et f(a) et f(b) de signes distincts'''\n",
    "    i=0\n",
    "    print(((formatN+\"  \")*6)%('i','a','b','c=(a+b)/2','f(c)','decision'))\n",
    "    if f(a)<0 : # signe f de a\n",
    "        sgnfdea = -1\n",
    "    else :\n",
    "        sgnfdea = +1\n",
    "    # donc sgnfdea*f(a)>0\n",
    "    for i in range(nbpas) : \n",
    "        c=(a+b)/2\n",
    "        fdec=f(c)\n",
    "        if sgnfdea * fdec > 0 : # f(c) et f(a) de meme signe\n",
    "            decision = 'a=c'\n",
    "            print((formatI+\"  \"+format+\"  \"+format+\"  \"+format+\"  \"+format+\"     %s\")%(i,a,b,c,fdec,decision))\n",
    "            a=c\n",
    "        else :\n",
    "            decision = 'b=c'\n",
    "            print((formatI+\"  \"+format+\"  \"+format+\"  \"+format+\"  \"+format+\"     %s\")%(i,a,b,c,fdec,decision))\n",
    "            b=c\n",
    "    return(a+b)/2\n",
    "####\n",
    "dicho(lambda x : x**3+x**2+2*x-6,1,2,20)"
   ]
  },
  {
   "cell_type": "code",
   "execution_count": 39,
   "metadata": {},
   "outputs": [
    {
     "name": "stdout",
     "output_type": "stream",
     "text": [
      "\\begin{array}{llllll}\\hline\n",
      "i&a&b&c=\\frac{a+b}2&f(c)&\\text{décision}\\\\\n",
      "\\hline\n",
      "0 & +1.000000 & +2.000000 & +1.500000 & +2.625000 & b\\leftarrow c \\\\ \n",
      "1 & +1.000000 & +1.500000 & +1.250000 & +0.015625 & b\\leftarrow c \\\\ \n",
      "2 & +1.000000 & +1.250000 & +1.125000 & -1.060547 & a\\leftarrow c \\\\ \n",
      "3 & +1.125000 & +1.250000 & +1.187500 & -0.540283 & a\\leftarrow c \\\\ \n",
      "4 & +1.187500 & +1.250000 & +1.218750 & -0.266876 & a\\leftarrow c \\\\ \n",
      "5 & +1.218750 & +1.250000 & +1.234375 & -0.126774 & a\\leftarrow c \\\\ \n",
      "6 & +1.234375 & +1.250000 & +1.242188 & -0.055863 & a\\leftarrow c \\\\ \n",
      "7 & +1.242188 & +1.250000 & +1.246094 & -0.020191 & a\\leftarrow c \\\\ \n",
      "8 & +1.246094 & +1.250000 & +1.248047 & -0.002301 & a\\leftarrow c \\\\ \n",
      "9 & +1.248047 & +1.250000 & +1.249023 & +0.006657 & b\\leftarrow c \\\\ \n",
      "10 & +1.248047 & +1.249023 & +1.248535 & +0.002177 & b\\leftarrow c \\\\ \n",
      "11 & +1.248047 & +1.248535 & +1.248291 & -0.000062 & a\\leftarrow c \\\\ \n",
      "12 & +1.248291 & +1.248535 & +1.248413 & +0.001057 & b\\leftarrow c \\\\ \n",
      "13 & +1.248291 & +1.248413 & +1.248352 & +0.000497 & b\\leftarrow c \\\\ \n",
      "14 & +1.248291 & +1.248352 & +1.248322 & +0.000217 & b\\leftarrow c \\\\ \n",
      "15 & +1.248291 & +1.248322 & +1.248306 & +0.000078 & b\\leftarrow c \\\\ \n",
      "16 & +1.248291 & +1.248306 & +1.248299 & +0.000008 & b\\leftarrow c \\\\ \n",
      "17 & +1.248291 & +1.248299 & +1.248295 & -0.000027 & a\\leftarrow c \\\\ \n",
      "18 & +1.248295 & +1.248299 & +1.248297 & -0.000010 & a\\leftarrow c \\\\ \n",
      "19 & +1.248297 & +1.248299 & +1.248298 & -0.000001 & a\\leftarrow c \\\\ \n",
      "\\hline\n",
      "\\end{array}\n"
     ]
    }
   ],
   "source": [
    "def dichoLaTeX(f,a,b,nbpas,format=\"%+.6f\",formatN=\"%9s\",formatI=\"%9i\") : \n",
    "    '''Donne un encadrement pour une solution \n",
    "    de f(x) == 0\n",
    "    avec f fonction continue et f(a) et f(b) de signes distincts'''\n",
    "    print('\\\\begin{array}{llllll}\\\\hline')\n",
    "    i=0\n",
    "    #print(((formatN+\"  \")*6)%('i','a','b','c=(a+b)/2','f(c)','décision'))\n",
    "    print('i&a&b&c=\\\\frac{a+b}2&f(c)&\\\\text{décision}\\\\\\\\\\n\\\\hline')\n",
    "    if f(a)<0 : # signe f de a\n",
    "        sgnfdea = -1\n",
    "    else :\n",
    "        sgnfdea = +1\n",
    "    # donc sgnfdea*f(a)>0\n",
    "    for i in range(nbpas) : \n",
    "        c=(a+b)/2\n",
    "        fdec=f(c)\n",
    "        if sgnfdea * fdec > 0 : # f(c) et f(a) de meme signe\n",
    "            decision = 'a\\\\leftarrow c'\n",
    "            #print((formatI+\"  \"+format+\"  \"+format+\"  \"+format+\"  \"+format+\"     %s\")%(i,a,b,c,fdec,decision))\n",
    "            print((\"%s & \"+(format+\" & \")*4+\"%s \\\\\\\\ \")%(i,a,b,c,fdec,decision))\n",
    "            a=c\n",
    "        else :\n",
    "            decision = 'b\\\\leftarrow c'\n",
    "            #print((formatI+\"  \"+format+\"  \"+format+\"  \"+format+\"  \"+format+\"     %s\")%(i,a,b,c,fdec,decision))\n",
    "            print((\"%s & \"+(format+\" & \")*4+\"%s \\\\\\\\ \")%(i,a,b,c,fdec,decision))\n",
    "            b=c\n",
    "    print('\\\\hline\\n\\\\end{array}')\n",
    "####\n",
    "dichoLaTeX(lambda x : x**3+x**2+2*x-6,1,2,20)"
   ]
  },
  {
   "cell_type": "markdown",
   "metadata": {},
   "source": [
    "Exercice 15  : résolution approchée de ln(x)+2x-4=0\n",
    "-----------\n",
    "\n",
    "Résolution approchée de ln(x)+2*x-4=0"
   ]
  },
  {
   "cell_type": "code",
   "execution_count": 40,
   "metadata": {},
   "outputs": [
    {
     "data": {
      "image/png": "[encoded data removed]",
      "text/plain": [
       "<Figure size 1080x432 with 2 Axes>"
      ]
     },
     "metadata": {
      "needs_background": "light"
     },
     "output_type": "display_data"
    }
   ],
   "source": [
    "alpha=1.726850\n",
    "x = Symbol('x')\n",
    "g = lambda x : np.log(x)+2*x-4\n",
    "### \n",
    "fig, (ax0, ax1) = plt.subplots(1, 2,figsize=(15,6))\n",
    "x=Symbol('x')\n",
    "fig.suptitle(\"$x \\mapsto \\ln x + 2\\,x - 4$\")\n",
    "####\n",
    "t0 = np.linspace(0.01 , 6 , 120)\n",
    "t1 = np.linspace(1    , 2 , 120)\n",
    "####\n",
    "ax0.plot(t0, g(t0), linewidth=1,color='blue')\n",
    "ax0.plot(t1, g(t1), linewidth=3,color='blue')\n",
    "ax0.grid()\n",
    "ax0.plot([alpha],[0],'r+', markersize=12)\n",
    "####\n",
    "ax1.plot(t1, g(t1), linewidth=1,color='blue')\n",
    "ax1.grid()\n",
    "ax1.plot([alpha],[0],'r+', markersize=12)\n",
    "####\n",
    "####\n",
    "plt.savefig('courbesexo15a.pdf')\n",
    "plt.show()"
   ]
  },
  {
   "cell_type": "code",
   "execution_count": 41,
   "metadata": {},
   "outputs": [
    {
     "name": "stdout",
     "output_type": "stream",
     "text": [
      "        i          a          b  c=(a+b)/2       f(c)   decision  \n",
      "        0  +1.000000  +2.000000  +1.500000  -0.594535     a=c\n",
      "        1  +1.500000  +2.000000  +1.750000  +0.059616     b=c\n",
      "        2  +1.500000  +1.750000  +1.625000  -0.264492     a=c\n",
      "        3  +1.625000  +1.750000  +1.687500  -0.101752     a=c\n",
      "        4  +1.687500  +1.750000  +1.718750  -0.020903     a=c\n",
      "        5  +1.718750  +1.750000  +1.734375  +0.019397     b=c\n",
      "        6  +1.718750  +1.734375  +1.726562  -0.000743     a=c\n",
      "        7  +1.726562  +1.734375  +1.730469  +0.009330     b=c\n",
      "        8  +1.726562  +1.730469  +1.728516  +0.004294     b=c\n",
      "        9  +1.726562  +1.728516  +1.727539  +0.001776     b=c\n",
      "       10  +1.726562  +1.727539  +1.727051  +0.000517     b=c\n",
      "       11  +1.726562  +1.727051  +1.726807  -0.000113     a=c\n",
      "       12  +1.726807  +1.727051  +1.726929  +0.000202     b=c\n",
      "       13  +1.726807  +1.726929  +1.726868  +0.000045     b=c\n",
      "       14  +1.726807  +1.726868  +1.726837  -0.000034     a=c\n",
      "       15  +1.726837  +1.726868  +1.726852  +0.000005     b=c\n",
      "       16  +1.726837  +1.726852  +1.726845  -0.000015     a=c\n",
      "       17  +1.726845  +1.726852  +1.726849  -0.000005     a=c\n",
      "       18  +1.726849  +1.726852  +1.726851  +0.000000     b=c\n",
      "       19  +1.726849  +1.726851  +1.726850  -0.000002     a=c\n"
     ]
    },
    {
     "data": {
      "image/png": "[encoded data removed]",
      "text/latex": [
       "$\\displaystyle 1.7268500328063965$"
      ],
      "text/plain": [
       "1.7268500328063965"
      ]
     },
     "execution_count": 41,
     "metadata": {},
     "output_type": "execute_result"
    }
   ],
   "source": [
    "dicho(lambda x : log(x)+2*x-4,1.0,2.0,20)"
   ]
  },
  {
   "cell_type": "code",
   "execution_count": 42,
   "metadata": {},
   "outputs": [
    {
     "name": "stdout",
     "output_type": "stream",
     "text": [
      "\\begin{array}{llllll}\\hline\n",
      "i&a&b&c=\\frac{a+b}2&f(c)&\\text{décision}\\\\\n",
      "\\hline\n",
      "0 & +1.000000 & +2.000000 & +1.500000 & -0.594535 & a\\leftarrow c \\\\ \n",
      "1 & +1.500000 & +2.000000 & +1.750000 & +0.059616 & b\\leftarrow c \\\\ \n",
      "2 & +1.500000 & +1.750000 & +1.625000 & -0.264492 & a\\leftarrow c \\\\ \n",
      "3 & +1.625000 & +1.750000 & +1.687500 & -0.101752 & a\\leftarrow c \\\\ \n",
      "4 & +1.687500 & +1.750000 & +1.718750 & -0.020903 & a\\leftarrow c \\\\ \n",
      "5 & +1.718750 & +1.750000 & +1.734375 & +0.019397 & b\\leftarrow c \\\\ \n",
      "6 & +1.718750 & +1.734375 & +1.726562 & -0.000743 & a\\leftarrow c \\\\ \n",
      "7 & +1.726562 & +1.734375 & +1.730469 & +0.009330 & b\\leftarrow c \\\\ \n",
      "8 & +1.726562 & +1.730469 & +1.728516 & +0.004294 & b\\leftarrow c \\\\ \n",
      "9 & +1.726562 & +1.728516 & +1.727539 & +0.001776 & b\\leftarrow c \\\\ \n",
      "10 & +1.726562 & +1.727539 & +1.727051 & +0.000517 & b\\leftarrow c \\\\ \n",
      "11 & +1.726562 & +1.727051 & +1.726807 & -0.000113 & a\\leftarrow c \\\\ \n",
      "12 & +1.726807 & +1.727051 & +1.726929 & +0.000202 & b\\leftarrow c \\\\ \n",
      "13 & +1.726807 & +1.726929 & +1.726868 & +0.000045 & b\\leftarrow c \\\\ \n",
      "14 & +1.726807 & +1.726868 & +1.726837 & -0.000034 & a\\leftarrow c \\\\ \n",
      "15 & +1.726837 & +1.726868 & +1.726852 & +0.000005 & b\\leftarrow c \\\\ \n",
      "16 & +1.726837 & +1.726852 & +1.726845 & -0.000015 & a\\leftarrow c \\\\ \n",
      "17 & +1.726845 & +1.726852 & +1.726849 & -0.000005 & a\\leftarrow c \\\\ \n",
      "18 & +1.726849 & +1.726852 & +1.726851 & +0.000000 & b\\leftarrow c \\\\ \n",
      "19 & +1.726849 & +1.726851 & +1.726850 & -0.000002 & a\\leftarrow c \\\\ \n",
      "\\hline\n",
      "\\end{array}\n"
     ]
    }
   ],
   "source": [
    "dichoLaTeX(lambda x : log(x)+2*x-4,1.0,2.0,20)"
   ]
  },
  {
   "cell_type": "markdown",
   "metadata": {},
   "source": [
    "Exercice 16\n",
    "-----------\n",
    "\n",
    "Résolution de exp(-x)+ln(x)=0 : x>0"
   ]
  },
  {
   "cell_type": "code",
   "execution_count": 43,
   "metadata": {},
   "outputs": [
    {
     "data": {
      "image/png": "[encoded data removed]",
      "text/plain": [
       "<Figure size 432x288 with 1 Axes>"
      ]
     },
     "metadata": {
      "needs_background": "light"
     },
     "output_type": "display_data"
    }
   ],
   "source": [
    "x=Symbol('x')\n",
    "#f = lambda x : np.exp(-x)\n",
    "t = np.linspace(0.01,10, 120)\n",
    "plt.plot(t, np.exp(-t)+np.log(t), linewidth=2)\n",
    "####\n",
    "plt.title('exercice 16')\n",
    "plt.grid()\n",
    "#plt.axis('equal')\n",
    "#plt.legend()\n",
    "####\n",
    "plt.savefig('courbesexo16a.pdf')\n",
    "plt.show()"
   ]
  },
  {
   "cell_type": "code",
   "execution_count": 44,
   "metadata": {},
   "outputs": [
    {
     "data": {
      "image/png": "[encoded data removed]",
      "text/plain": [
       "<Figure size 1080x432 with 2 Axes>"
      ]
     },
     "metadata": {
      "needs_background": "light"
     },
     "output_type": "display_data"
    }
   ],
   "source": [
    "alpha=0.567143290409784\n",
    "x = Symbol('x')\n",
    "h = lambda x : np.exp(-x)+np.log(x)\n",
    "### \n",
    "fig, (ax0, ax1) = plt.subplots(1, 2,figsize=(15,6))\n",
    "x=Symbol('x')\n",
    "fig.suptitle(\"$x \\mapsto e^{x} + \\ln x$\")\n",
    "####\n",
    "t0 = np.linspace(0.01 , 10   , 120)\n",
    "t1 = np.linspace(0.4  ,  0.6 , 120)\n",
    "####\n",
    "ax0.plot(t0, h(t0), linewidth=1,color='blue')\n",
    "ax0.plot(t1, h(t1), linewidth=3,color='blue')\n",
    "ax0.grid()\n",
    "ax0.plot([alpha],[0],'r+', markersize=12)\n",
    "####\n",
    "ax1.plot(t1, h(t1), linewidth=1,color='blue')\n",
    "ax1.grid()\n",
    "ax1.plot([alpha],[0],'r+', markersize=12)\n",
    "####\n",
    "####\n",
    "plt.savefig('courbesexo16a.pdf')\n",
    "plt.show()"
   ]
  },
  {
   "cell_type": "code",
   "execution_count": 97,
   "metadata": {},
   "outputs": [
    {
     "name": "stdout",
     "output_type": "stream",
     "text": [
      "        i          a          b  c=(a+b)/2       f(c)   decision  \n",
      "        0  +0.400000000  +0.600000000  +0.500000000  -0.086616521     a=c\n",
      "        1  +0.500000000  +0.600000000  +0.550000000  -0.020887190     a=c\n",
      "        2  +0.550000000  +0.600000000  +0.575000000  +0.009319631     b=c\n",
      "        3  +0.550000000  +0.575000000  +0.562500000  -0.005581320     a=c\n",
      "        4  +0.562500000  +0.575000000  +0.568750000  +0.001918479     b=c\n",
      "        5  +0.562500000  +0.568750000  +0.565625000  -0.001818932     a=c\n",
      "        6  +0.565625000  +0.568750000  +0.567187500  +0.000052876     b=c\n",
      "        7  +0.565625000  +0.567187500  +0.566406250  -0.000882250     a=c\n",
      "        8  +0.566406250  +0.567187500  +0.566796875  -0.000414493     a=c\n",
      "        9  +0.566796875  +0.567187500  +0.566992187  -0.000180760     a=c\n",
      "       10  +0.566992187  +0.567187500  +0.567089844  -0.000063930     a=c\n",
      "       11  +0.567089844  +0.567187500  +0.567138672  -0.000005524     a=c\n",
      "       12  +0.567138672  +0.567187500  +0.567163086  +0.000023677     b=c\n",
      "       13  +0.567138672  +0.567163086  +0.567150879  +0.000009076     b=c\n",
      "       14  +0.567138672  +0.567150879  +0.567144775  +0.000001776     b=c\n",
      "       15  +0.567138672  +0.567144775  +0.567141724  -0.000001874     a=c\n",
      "       16  +0.567141724  +0.567144775  +0.567143250  -0.000000049     a=c\n",
      "       17  +0.567143250  +0.567144775  +0.567144012  +0.000000864     b=c\n",
      "       18  +0.567143250  +0.567144012  +0.567143631  +0.000000407     b=c\n",
      "       19  +0.567143250  +0.567143631  +0.567143440  +0.000000179     b=c\n",
      "       20  +0.567143250  +0.567143440  +0.567143345  +0.000000065     b=c\n",
      "       21  +0.567143250  +0.567143345  +0.567143297  +0.000000008     b=c\n",
      "       22  +0.567143250  +0.567143297  +0.567143273  -0.000000020     a=c\n",
      "       23  +0.567143273  +0.567143297  +0.567143285  -0.000000006     a=c\n",
      "       24  +0.567143285  +0.567143297  +0.567143291  +0.000000001     b=c\n"
     ]
    },
    {
     "data": {
      "image/png": "[encoded data removed]",
      "text/latex": [
       "$\\displaystyle 0.567143288254738$"
      ],
      "text/plain": [
       "0.567143288254738"
      ]
     },
     "execution_count": 97,
     "metadata": {},
     "output_type": "execute_result"
    }
   ],
   "source": [
    "dicho(lambda x : exp(-x)+log(x),0.4,0.6,25,format=\"%+.9f\")"
   ]
  },
  {
   "cell_type": "code",
   "execution_count": 95,
   "metadata": {},
   "outputs": [
    {
     "name": "stdout",
     "output_type": "stream",
     "text": [
      "h(0.4)=-0.24597068583851567\n",
      "h(0.6)=0.03798601232803578\n"
     ]
    }
   ],
   "source": [
    "a,b=0.4,0.6\n",
    "for _ in a,b : \n",
    "    print(\"h(%s)=%s\"%(_,h(_)))"
   ]
  },
  {
   "cell_type": "code",
   "execution_count": 46,
   "metadata": {},
   "outputs": [
    {
     "name": "stdout",
     "output_type": "stream",
     "text": [
      "\\begin{array}{llllll}\\hline\n",
      "i&a&b&c=\\frac{a+b}2&f(c)&\\text{décision}\\\\\n",
      "\\hline\n",
      "0 & +0.100000 & +2.000000 & +1.050000 & +0.398728 & b\\leftarrow c \\\\ \n",
      "1 & +0.100000 & +1.050000 & +0.575000 & +0.009320 & b\\leftarrow c \\\\ \n",
      "2 & +0.100000 & +0.575000 & +0.337500 & -0.372638 & a\\leftarrow c \\\\ \n",
      "3 & +0.337500 & +0.575000 & +0.456250 & -0.151059 & a\\leftarrow c \\\\ \n",
      "4 & +0.456250 & +0.575000 & +0.515625 & -0.065248 & a\\leftarrow c \\\\ \n",
      "5 & +0.515625 & +0.575000 & +0.545313 & -0.026736 & a\\leftarrow c \\\\ \n",
      "6 & +0.545313 & +0.575000 & +0.560156 & -0.008420 & a\\leftarrow c \\\\ \n",
      "7 & +0.560156 & +0.575000 & +0.567578 & +0.000520 & b\\leftarrow c \\\\ \n",
      "8 & +0.560156 & +0.567578 & +0.563867 & -0.003932 & a\\leftarrow c \\\\ \n",
      "9 & +0.563867 & +0.567578 & +0.565723 & -0.001702 & a\\leftarrow c \\\\ \n",
      "\\hline\n",
      "\\end{array}\n"
     ]
    }
   ],
   "source": [
    "dichoLaTeX(lambda x : exp(-x)+log(x),0.1,2.0,10)"
   ]
  },
  {
   "cell_type": "code",
   "execution_count": null,
   "metadata": {},
   "outputs": [],
   "source": []
  },
  {
   "cell_type": "code",
   "execution_count": 47,
   "metadata": {},
   "outputs": [
    {
     "name": "stdout",
     "output_type": "stream",
     "text": [
      "                i                  u               f(u)              df(u)         prochain u  \n",
      "                0  +0.4  -0.245970685838516  +1.82967995396436  +0.534433721758591\n",
      "                1  +0.534433721758591  -0.0405465208155991  +1.28513837637463  +0.565984036931639\n",
      "                2  +0.565984036931639  -0.00138827000553066  +1.19903314838377  +0.567141861473356\n",
      "                3  +0.567141861473356  -1.70912422636782e-06  +1.19608317603973  +0.567143290407614\n",
      "                4  +0.567143290407614  -2.59503529775884e-12  +1.19607954394763  +0.567143290409784\n",
      "                5  +0.567143290409784  -1.11022302462516e-16  +1.19607954394211  +0.567143290409784\n",
      "                6  +0.567143290409784  +1.11022302462516e-16  +1.19607954394211  +0.567143290409784\n",
      "                7  +0.567143290409784  -1.11022302462516e-16  +1.19607954394211  +0.567143290409784\n",
      "                8  +0.567143290409784  +1.11022302462516e-16  +1.19607954394211  +0.567143290409784\n",
      "                9  +0.567143290409784  -1.11022302462516e-16  +1.19607954394211  +0.567143290409784\n",
      "0.567143290409784\n",
      "1.11022302462516e-16\n",
      "-53.0000000000000\n"
     ]
    }
   ],
   "source": [
    "def newton(f,df,u0,nbpas,format=\"%+.15g\",formatN=\"%17s\",formatI=\"%17i\") : \n",
    "    '''Propose la valeur approchée d'une éventuelle solution \n",
    "    de f(x) == 0 pour x proche de u0\n",
    "    avec f et sa dérivée df toutes deux connues'''\n",
    "    i=0\n",
    "    u=u0\n",
    "    \n",
    "    print(((formatN+\"  \")*5)%('i','u','f(u)','df(u)','prochain u'))\n",
    "    for i in range(nbpas) : \n",
    "        usuivant = u-f(u)/df(u)\n",
    "        #print(i,u,f(u),df(u),usuivant)\n",
    "        print((formatI+\"  \"+format+\"  \"+format+\"  \"+format+\"  \"+format)%(i,u,f(u),df(u),usuivant))\n",
    "        u=usuivant\n",
    "    return usuivant\n",
    "######\n",
    "x = Symbol('x')\n",
    "u = newton(lambda x : exp(-x)+log(x), lambda x : -exp(-x)+1/x,0.4,10)\n",
    "print(u)\n",
    "fdeu=exp(-u)+log(u)\n",
    "print(fdeu)\n",
    "print(log(abs(fdeu))/log(2.0))"
   ]
  },
  {
   "cell_type": "code",
   "execution_count": 100,
   "metadata": {},
   "outputs": [
    {
     "data": {
      "image/png": "[encoded data removed]",
      "text/latex": [
       "$\\displaystyle -53.0$"
      ],
      "text/plain": [
       "-53.0000000000000"
      ]
     },
     "execution_count": 100,
     "metadata": {},
     "output_type": "execute_result"
    }
   ],
   "source": [
    "ln(+1.11022302462516e-16)/ln(2.0)"
   ]
  },
  {
   "cell_type": "code",
   "execution_count": 48,
   "metadata": {},
   "outputs": [
    {
     "name": "stdout",
     "output_type": "stream",
     "text": [
      "\\begin{array}{lcccc}\n",
      "\\hline\n",
      "i&u_i&f(u_i)&f'(u_i)&u_{i+1}=u_i-\\frac{f(u_i)}{f'(u_i)}\\\\\n",
      "\\hline \n",
      "0  & +0.4 & -0.245970685838516 & +1.82967995396436 & +0.534433721758591 \\\\ \n",
      "1  & +0.534433721758591 & -0.0405465208155991 & +1.28513837637463 & +0.565984036931639 \\\\ \n",
      "2  & +0.565984036931639 & -0.00138827000553066 & +1.19903314838377 & +0.567141861473356 \\\\ \n",
      "3  & +0.567141861473356 & -1.70912422636782e-06 & +1.19608317603973 & +0.567143290407614 \\\\ \n",
      "4  & +0.567143290407614 & -2.59503529775884e-12 & +1.19607954394763 & +0.567143290409784 \\\\ \n",
      "5  & +0.567143290409784 & -1.11022302462516e-16 & +1.19607954394211 & +0.567143290409784 \\\\ \n",
      "6  & +0.567143290409784 & +1.11022302462516e-16 & +1.19607954394211 & +0.567143290409784 \\\\ \n",
      "7  & +0.567143290409784 & -1.11022302462516e-16 & +1.19607954394211 & +0.567143290409784 \\\\ \n",
      "8  & +0.567143290409784 & +1.11022302462516e-16 & +1.19607954394211 & +0.567143290409784 \\\\ \n",
      "9  & +0.567143290409784 & -1.11022302462516e-16 & +1.19607954394211 & +0.567143290409784 \\\\ \n",
      "\\hline\n",
      "\\end{array}\n",
      "0.567143290409784\n",
      "1.11022302462516e-16\n",
      "-53.0000000000000\n"
     ]
    }
   ],
   "source": [
    "def newtonLaTeX(f,df,u0,nbpas,format=\"%+.15g\",formatN=\"%17s\",formatI=\"%17i\") : \n",
    "    '''Propose la valeur approchée d'une éventuelle solution \n",
    "    de f(x) == 0 pour x proche de u0\n",
    "    avec f et sa dérivée df toutes deux connues'''\n",
    "    i=0\n",
    "    u=u0\n",
    "    ######\n",
    "    print(\"\\\\begin{array}{lcccc}\\n\\\\hline\")\n",
    "    #print(((formatN+\"  \")*5)%('i','u','f(u)','df(u)','prochain u'))\n",
    "    #print(\"i&u&f(u)&f'(u)&u-\\\\frac{f(u)}{f'(u)}\\\\\\\\\\n\\\\hline\")\n",
    "    print(\"i&u_i&f(u_i)&f'(u_i)&u_{i+1}=u_i-\\\\frac{f(u_i)}{f'(u_i)}\\\\\\\\\\n\\\\hline \")\n",
    "    #####\n",
    "    for i in range(nbpas) : \n",
    "        usuivant = u-f(u)/df(u)\n",
    "        #print(i,u,f(u),df(u),usuivant)\n",
    "        #print((formatI+\"  \"+format+\"  \"+format+\"  \"+format+\"  \"+format)%(i,u,f(u),df(u),usuivant))\n",
    "        print((\"%s \"+(' & '+format)*4+' \\\\\\\\ ')%(i,u,f(u),df(u),usuivant))\n",
    "        u=usuivant\n",
    "    print(\"\\\\hline\\n\\\\end{array}\")\n",
    "    return usuivant\n",
    "######\n",
    "x = Symbol('x')\n",
    "u = newtonLaTeX(lambda x : exp(-x)+log(x), lambda x : -exp(-x)+1/x,0.4,10)\n",
    "print(u)\n",
    "fdeu=exp(-u)+log(u)\n",
    "print(fdeu)\n",
    "print(log(abs(fdeu))/log(2.0))"
   ]
  },
  {
   "cell_type": "markdown",
   "metadata": {},
   "source": [
    "Exercice 17 : $\\sqrt5$ et $\\sqrt7$\n",
    "-----------------"
   ]
  },
  {
   "cell_type": "code",
   "execution_count": 49,
   "metadata": {},
   "outputs": [
    {
     "name": "stdout",
     "output_type": "stream",
     "text": [
      "\\begin{array}{lcccc}\n",
      "\\hline\n",
      "i&u_i&f(u_i)&f'(u_i)&u_{i+1}=u_i-\\frac{f(u_i)}{f'(u_i)}\\\\\n",
      "\\hline \n",
      "0  & +2 & -1 & +4 & +2.25 \\\\ \n",
      "1  & +2.25 & +0.0625 & +4.5 & +2.23611111111111 \\\\ \n",
      "2  & +2.23611111111111 & +0.000192901234568055 & +4.47222222222222 & +2.2360679779158 \\\\ \n",
      "3  & +2.2360679779158 & +1.86047355299479e-09 & +4.47213595583161 & +2.23606797749979 \\\\ \n",
      "4  & +2.23606797749979 & +8.88178419700125e-16 & +4.47213595499958 & +2.23606797749979 \\\\ \n",
      "5  & +2.23606797749979 & +8.88178419700125e-16 & +4.47213595499958 & +2.23606797749979 \\\\ \n",
      "6  & +2.23606797749979 & +8.88178419700125e-16 & +4.47213595499958 & +2.23606797749979 \\\\ \n",
      "7  & +2.23606797749979 & +8.88178419700125e-16 & +4.47213595499958 & +2.23606797749979 \\\\ \n",
      "\\hline\n",
      "\\end{array}\n",
      "%%%  2.23606797749979 2.23606797749979\n",
      "\\begin{array}{lcccc}\n",
      "\\hline\n",
      "i&u_i&f(u_i)&f'(u_i)&u_{i+1}=u_i-\\frac{f(u_i)}{f'(u_i)}\\\\\n",
      "\\hline \n",
      "0  & +2 & -3 & +4 & +2.75 \\\\ \n",
      "1  & +2.75 & +0.5625 & +5.5 & +2.64772727272727 \\\\ \n",
      "2  & +2.64772727272727 & +0.0104597107438025 & +5.29545454545455 & +2.6457520483808 \\\\ \n",
      "3  & +2.6457520483808 & +3.90151121898441e-06 & +5.29150409676161 & +2.64575131106469 \\\\ \n",
      "4  & +2.64575131106469 & +5.43565192856477e-13 & +5.29150262212939 & +2.64575131106459 \\\\ \n",
      "5  & +2.64575131106459 & +8.88178419700125e-16 & +5.29150262212918 & +2.64575131106459 \\\\ \n",
      "6  & +2.64575131106459 & +8.88178419700125e-16 & +5.29150262212918 & +2.64575131106459 \\\\ \n",
      "7  & +2.64575131106459 & +8.88178419700125e-16 & +5.29150262212918 & +2.64575131106459 \\\\ \n",
      "\\hline\n",
      "\\end{array}\n",
      "%%%  2.6457513110645907 2.6457513110645907\n"
     ]
    }
   ],
   "source": [
    "u = newtonLaTeX(lambda x : x**2-5, lambda x : 2*x,2.0,8)\n",
    "print(\"%%% \",u,5**0.5)\n",
    "u = newtonLaTeX(lambda x : x**2-7, lambda x : 2*x,2.0,8)\n",
    "print(\"%%% \",u,7**0.5)"
   ]
  },
  {
   "cell_type": "code",
   "execution_count": 50,
   "metadata": {},
   "outputs": [
    {
     "name": "stdout",
     "output_type": "stream",
     "text": [
      "0 & 2.000000000000000000000000000000000000000000000000000000000000000000000000000000000000000000000000000 \\\\\n",
      "1 & 2.250000000000000000000000000000000000000000000000000000000000000000000000000000000000000000000000000 \\\\\n",
      "2 & 2.236111111111111111111111111111111111111111111111111111111111111111111111111111111111111111111111111 \\\\\n",
      "3 & 2.236067977915804002760524499654934437543133195307108350586611456176673567977915804002760524499654934 \\\\\n",
      "4 & 2.236067977499789696447872828327110358371497154548675797175599665319485874477181508799088639788840989 \\\\\n",
      "5 & 2.236067977499789696409173668731276235440953238731591290598120076242199153848605247813632562617738773 \\\\\n",
      "6 & 2.236067977499789696409173668731276235440618359611525724270897245410520925637804924490580737919301609 \\\\\n",
      "7 & 2.236067977499789696409173668731276235440618359611525724270897245410520925637804899414414408378782275 \\\\\n",
      "8 & 2.236067977499789696409173668731276235440618359611525724270897245410520925637804899414414408378782275 \\\\\n",
      "9 & 2.236067977499789696409173668731276235440618359611525724270897245410520925637804899414414408378782275 \\\\\n"
     ]
    }
   ],
   "source": [
    "f  = lambda x : x**2-5\n",
    "df = lambda x : 2*x\n",
    "i,u=0,N(2,100)\n",
    "for i in range(10) : \n",
    "    print(\"%s & %s \\\\\\\\\"%(i,u))\n",
    "    i+=1\n",
    "    u = u -f(u)/df(u)"
   ]
  },
  {
   "cell_type": "code",
   "execution_count": 102,
   "metadata": {},
   "outputs": [
    {
     "name": "stdout",
     "output_type": "stream",
     "text": [
      "2.23606797749979\n",
      "2.6457513110645907\n"
     ]
    }
   ],
   "source": [
    "for _ in 5.0, 7.0 : \n",
    "    print(_**0.5)"
   ]
  },
  {
   "cell_type": "code",
   "execution_count": 51,
   "metadata": {},
   "outputs": [],
   "source": [
    "# Pour tracer les courbes\n",
    "import numpy as np\n",
    "import matplotlib.pyplot as plt\n",
    "# Pour les calculs formels\n",
    "from sympy import *\n",
    "#  pour automatiquement afficher les résultats avec jsmath\n",
    "init_printing()"
   ]
  },
  {
   "cell_type": "code",
   "execution_count": 52,
   "metadata": {},
   "outputs": [
    {
     "data": {
      "image/png": "[encoded data removed]",
      "text/latex": [
       "$\\displaystyle 7.0$"
      ],
      "text/plain": [
       "7.00000000000000"
      ]
     },
     "execution_count": 52,
     "metadata": {},
     "output_type": "execute_result"
    }
   ],
   "source": [
    "log(2187.0)/log(3.0)"
   ]
  },
  {
   "cell_type": "code",
   "execution_count": 53,
   "metadata": {},
   "outputs": [
    {
     "name": "stdout",
     "output_type": "stream",
     "text": [
      "[0, 1, 2, 3, 4, 5, 6, 7]\n",
      "[18, 54, 162, 486, 1458, 4374, 13122, 39366]\n",
      "59040\n"
     ]
    }
   ],
   "source": [
    "print([      i for i in range(8)])\n",
    "print([18*3**i for i in range(8)])\n",
    "print(sum([18*3**i for i in range(8)]))"
   ]
  },
  {
   "cell_type": "code",
   "execution_count": 54,
   "metadata": {},
   "outputs": [
    {
     "data": {
      "image/png": "[encoded data removed]",
      "text/latex": [
       "$\\displaystyle 59040.0$"
      ],
      "text/plain": [
       "59040.0"
      ]
     },
     "execution_count": 54,
     "metadata": {},
     "output_type": "execute_result"
    }
   ],
   "source": [
    "18 * (1-3**8) / (1-3)"
   ]
  },
  {
   "cell_type": "code",
   "execution_count": 55,
   "metadata": {},
   "outputs": [
    {
     "name": "stdout",
     "output_type": "stream",
     "text": [
      "[7, 8, 9, 10, 11, 12, 13, 14, 15, 16, 17, 18, 19, 20, 21]\n",
      "[128, 256, 512, 1024, 2048, 4096, 8192, 16384, 32768, 65536, 131072, 262144, 524288, 1048576, 2097152]\n",
      "4194176\n"
     ]
    }
   ],
   "source": [
    "print([   i for i in range(7,22)])\n",
    "print([2**i for i in range(7,22)])\n",
    "print(sum([2**i for i in range(7,22)]))"
   ]
  },
  {
   "cell_type": "markdown",
   "metadata": {},
   "source": [
    "# 2**7 * (1-2**15) / (1-2)\n"
   ]
  },
  {
   "cell_type": "markdown",
   "metadata": {},
   "source": [
    "exo 12 : sommes de Newton, ou de Baumhalter ? \n",
    "------"
   ]
  },
  {
   "cell_type": "code",
   "execution_count": 56,
   "metadata": {},
   "outputs": [
    {
     "data": {
      "image/png": "[encoded data removed]",
      "text/latex": [
       "$\\displaystyle \\left( \\frac{x \\left(x + 1\\right)}{2}, \\  \\frac{x^{2}}{2} + \\frac{x}{2}\\right)$"
      ],
      "text/plain": [
       "⎛            2    ⎞\n",
       "⎜x⋅(x + 1)  x    x⎟\n",
       "⎜─────────, ── + ─⎟\n",
       "⎝    2      2    2⎠"
      ]
     },
     "execution_count": 56,
     "metadata": {},
     "output_type": "execute_result"
    }
   ],
   "source": [
    "T = lambda x : Rational(1,2)* x * (x+1)\n",
    "x=Symbol('x')\n",
    "T(x),expand(T(x))"
   ]
  },
  {
   "cell_type": "code",
   "execution_count": 57,
   "metadata": {},
   "outputs": [
    {
     "data": {
      "image/png": "[encoded data removed]",
      "text/latex": [
       "$\\displaystyle x + 1$"
      ],
      "text/plain": [
       "x + 1"
      ]
     },
     "execution_count": 57,
     "metadata": {},
     "output_type": "execute_result"
    }
   ],
   "source": [
    "expand(T(x+1)-T(x))"
   ]
  },
  {
   "cell_type": "code",
   "execution_count": 58,
   "metadata": {},
   "outputs": [
    {
     "data": {
      "image/png": "[encoded data removed]",
      "text/latex": [
       "$\\displaystyle \\left( 8001, \\  7875, \\  126\\right)$"
      ],
      "text/plain": [
       "(8001, 7875, 126)"
      ]
     },
     "execution_count": 58,
     "metadata": {},
     "output_type": "execute_result"
    }
   ],
   "source": [
    "T(126),T(125),T(126)-T(125)"
   ]
  },
  {
   "cell_type": "code",
   "execution_count": 59,
   "metadata": {},
   "outputs": [
    {
     "data": {
      "image/png": "[encoded data removed]",
      "text/latex": [
       "$\\displaystyle 3$"
      ],
      "text/plain": [
       "3"
      ]
     },
     "execution_count": 59,
     "metadata": {},
     "output_type": "execute_result"
    }
   ],
   "source": [
    "def sone(n,k) : \n",
    "    '''somme des i**k de i=1 a i=n inclus\n",
    "par exemple \n",
    "sone(5,2) = 1**2+2**2+3**2+4**2+5**2 = 1+4+9+16+25 = 50\n",
    "sone(10,1) = 1+2+3+4+5+6+7+8+9+10 = 55\n",
    "sone(0,3) = 1**0+2**0+3**0 = 1+1+1 = 3\n",
    ">>> sone(5,2)\n",
    "50\n",
    ">>> sone(10,1)\n",
    "55\n",
    ">>> sone(3,0)\n",
    "3\n",
    "'''\n",
    "    return sum([i**k for i in range(1,n+1)])\n",
    "sone(3,0)"
   ]
  },
  {
   "cell_type": "code",
   "execution_count": 60,
   "metadata": {},
   "outputs": [
    {
     "data": {
      "image/png": "[encoded data removed]",
      "text/latex": [
       "$\\displaystyle 500500$"
      ],
      "text/plain": [
       "500500"
      ]
     },
     "execution_count": 60,
     "metadata": {},
     "output_type": "execute_result"
    }
   ],
   "source": [
    "sone(1000,1)"
   ]
  },
  {
   "cell_type": "code",
   "execution_count": 61,
   "metadata": {},
   "outputs": [
    {
     "name": "stdout",
     "output_type": "stream",
     "text": [
      "5050 780 4270\n"
     ]
    }
   ],
   "source": [
    "b,a=sone(100,1),sone(39,1)\n",
    "print(b,a,b-a)"
   ]
  },
  {
   "cell_type": "code",
   "execution_count": 62,
   "metadata": {},
   "outputs": [
    {
     "name": "stdout",
     "output_type": "stream",
     "text": [
      "(2, 10, 385) : ok\n",
      "(3, 5, 225) : ok\n",
      "(1, 5, 15) : ok\n",
      "(0, 5, 5) : ok\n"
     ]
    }
   ],
   "source": [
    "def sone(k,n) : # mode C ou JAVA\n",
    "  s=0\n",
    "  for i in range(1,n+1) : \n",
    "    s+=i**k \n",
    "  return s \n",
    "###################################\n",
    "for (k,n,résultat) in [(2,10,385) , (3,5,225) , (1,5,15) , (0,5,5)] : \n",
    "  if sone(k,n)==résultat : \n",
    "    print((k,n,résultat),\": ok\")\n",
    "  else : \n",
    "    print((k,n,résultat),\": y'a  u n os hélas\")\n",
    "################################"
   ]
  },
  {
   "cell_type": "markdown",
   "metadata": {},
   "source": [
    "Pour calculer $$1+2+\\dots+1000=\\sum_{i:1\\leq i\\leq1000}i = \\sum_{i:1\\leq i<1001}i$$ on peut coder en imitant ce que l'on ferait en `C` ou en `Java` en cumulant les calculs intermédiaires dans une variable `s` "
   ]
  },
  {
   "cell_type": "code",
   "execution_count": 63,
   "metadata": {},
   "outputs": [
    {
     "name": "stdout",
     "output_type": "stream",
     "text": [
      "500500\n"
     ]
    }
   ],
   "source": [
    "s=0\n",
    "for i in range(1,1001) : \n",
    "    s += i\n",
    "print(s)"
   ]
  },
  {
   "cell_type": "markdown",
   "metadata": {},
   "source": [
    "On remarquere que l'itérateur `range(a,b)` correspond aux entiers compris entre `a`inclus et `b` exclu, on écrit donc `range(1,1001)` pour obtenir les entiers de 1 à 1000 inclus. \n",
    "\n",
    "Cependant en `Python` on a plutôt tendance à créer des listes, ainsi pour calculer la somme `1+2+3+4+5` on commence par créer la liste `[1,2,3,4,5]` "
   ]
  },
  {
   "cell_type": "code",
   "execution_count": 64,
   "metadata": {},
   "outputs": [
    {
     "name": "stdout",
     "output_type": "stream",
     "text": [
      "[1, 2, 3, 4, 5]\n"
     ]
    }
   ],
   "source": [
    "print([i for i in range(1,6)])"
   ]
  },
  {
   "cell_type": "markdown",
   "metadata": {},
   "source": [
    "puis on calcule la somme des éléments de cette liste à l'aide de la fonction `sum` :"
   ]
  },
  {
   "cell_type": "code",
   "execution_count": 65,
   "metadata": {},
   "outputs": [
    {
     "name": "stdout",
     "output_type": "stream",
     "text": [
      "15\n"
     ]
    }
   ],
   "source": [
    "print(sum([i for i in range(1,6)]))"
   ]
  },
  {
   "cell_type": "markdown",
   "metadata": {},
   "source": [
    "ce qui nous permet de reprendre le calcul précédent pour $1+2+\\dots+1000$ : "
   ]
  },
  {
   "cell_type": "code",
   "execution_count": 66,
   "metadata": {},
   "outputs": [
    {
     "name": "stdout",
     "output_type": "stream",
     "text": [
      "500500\n"
     ]
    }
   ],
   "source": [
    "print(sum([i for i in range(1,1001)]))"
   ]
  },
  {
   "cell_type": "markdown",
   "metadata": {},
   "source": [
    "Le calcul $\\frac12\\times1000\\times1001$ donne heureusement le même résultat (au détail près que l'on obtient un flottant à cause de la division par 2)"
   ]
  },
  {
   "cell_type": "code",
   "execution_count": 67,
   "metadata": {},
   "outputs": [
    {
     "name": "stdout",
     "output_type": "stream",
     "text": [
      "5000500.0\n"
     ]
    }
   ],
   "source": [
    "print(1000*10001/2)"
   ]
  },
  {
   "cell_type": "markdown",
   "metadata": {},
   "source": [
    "Intéressons nous maintenant au temps de calcul nécessaire \n",
    "pour calculer par méthode itérative $1+2+\\dots+1000$ \n",
    "d'abord par la méthode itérative puis par calcul direct \n",
    " $\\frac12\\times1000\\times1001$ : "
   ]
  },
  {
   "cell_type": "code",
   "execution_count": 68,
   "metadata": {},
   "outputs": [
    {
     "name": "stdout",
     "output_type": "stream",
     "text": [
      "30.6 µs ± 476 ns per loop (mean ± std. dev. of 7 runs, 10000 loops each)\n"
     ]
    }
   ],
   "source": [
    "%timeit sum([i for i in range(1,1001)])"
   ]
  },
  {
   "cell_type": "code",
   "execution_count": 69,
   "metadata": {},
   "outputs": [
    {
     "name": "stdout",
     "output_type": "stream",
     "text": [
      "7.14 ns ± 0.138 ns per loop (mean ± std. dev. of 7 runs, 100000000 loops each)\n"
     ]
    }
   ],
   "source": [
    "%timeit 1001*1000/2"
   ]
  },
  {
   "cell_type": "markdown",
   "metadata": {},
   "source": [
    "Il est essentiel ici de comparer les temps de calcul, \n",
    "le rapprt entre 7 nanosecondes et 30 microsecondes étant de… 7\\,500, ce qui est tout de même un beau facteur d'accélération. "
   ]
  },
  {
   "cell_type": "code",
   "execution_count": 70,
   "metadata": {},
   "outputs": [
    {
     "name": "stdout",
     "output_type": "stream",
     "text": [
      "7500.0\n"
     ]
    }
   ],
   "source": [
    "print(30e-6/4e-9)"
   ]
  },
  {
   "cell_type": "markdown",
   "metadata": {},
   "source": [
    "Le contraste est encore plus marqué lorsquez l'on compare les calculs pour\n",
    "$$1+2+\\dots+1\\,000\\,000 = \\frac12\\times1\\,000\\,000\\times1\\,000\\,001$$\n",
    "l'accélération obtenue étant cette fois de l'ordre de… 6 millions !"
   ]
  },
  {
   "cell_type": "code",
   "execution_count": 71,
   "metadata": {},
   "outputs": [
    {
     "name": "stdout",
     "output_type": "stream",
     "text": [
      "42.3 ms ± 565 µs per loop (mean ± std. dev. of 7 runs, 10 loops each)\n"
     ]
    }
   ],
   "source": [
    "%timeit sum([i for i in range(1,10**6+1)])"
   ]
  },
  {
   "cell_type": "code",
   "execution_count": 72,
   "metadata": {},
   "outputs": [
    {
     "name": "stdout",
     "output_type": "stream",
     "text": [
      "6.76 ns ± 0.0269 ns per loop (mean ± std. dev. of 7 runs, 100000000 loops each)\n"
     ]
    }
   ],
   "source": [
    "%timeit 10**6*(10**6+1)/2"
   ]
  },
  {
   "cell_type": "code",
   "execution_count": 73,
   "metadata": {},
   "outputs": [
    {
     "name": "stdout",
     "output_type": "stream",
     "text": [
      "6385714.285714285\n"
     ]
    }
   ],
   "source": [
    "print(44.7e-3/7e-9)"
   ]
  },
  {
   "cell_type": "code",
   "execution_count": 74,
   "metadata": {},
   "outputs": [
    {
     "name": "stdout",
     "output_type": "stream",
     "text": [
      "1min 16s ± 5.71 s per loop (mean ± std. dev. of 7 runs, 1 loop each)\n"
     ]
    }
   ],
   "source": [
    "%timeit sum([i for i in range(1,10**9+1)])"
   ]
  },
  {
   "cell_type": "code",
   "execution_count": 75,
   "metadata": {},
   "outputs": [
    {
     "data": {
      "image/png": "[encoded data removed]",
      "text/latex": [
       "$\\displaystyle 20.93123489200002$"
      ],
      "text/plain": [
       "20.93123489200002"
      ]
     },
     "execution_count": 75,
     "metadata": {},
     "output_type": "execute_result"
    }
   ],
   "source": [
    "import timeit\n",
    "timeit.timeit('\"-\".join(str(n) for n in range(100))')"
   ]
  },
  {
   "cell_type": "code",
   "execution_count": 76,
   "metadata": {},
   "outputs": [
    {
     "data": {
      "image/png": "[encoded data removed]",
      "text/latex": [
       "$\\displaystyle 2.539699994486e-05$"
      ],
      "text/plain": [
       "2.539699994486e-05"
      ]
     },
     "execution_count": 76,
     "metadata": {},
     "output_type": "execute_result"
    }
   ],
   "source": [
    "timeit.timeit('\"-\".join(str(n) for n in range(100))',number=1)"
   ]
  },
  {
   "cell_type": "code",
   "execution_count": 77,
   "metadata": {},
   "outputs": [],
   "source": [
    "a,b,c,d,e,x=(Symbol(_) for _ in 'abcdex')"
   ]
  },
  {
   "cell_type": "code",
   "execution_count": 78,
   "metadata": {},
   "outputs": [
    {
     "name": "stdout",
     "output_type": "stream",
     "text": [
      "a \\left(x + 1\\right)^{4} + b \\left(x + 1\\right)^{3} + c \\left(x + 1\\right)^{2} + d \\left(x + 1\\right) + e\n",
      "a x^{4} + b x^{3} + c x^{2} + d x + e\n",
      "a x^{4} + 4 a x^{3} + 6 a x^{2} + 4 a x + a + b x^{3} + 3 b x^{2} + 3 b x + b + c x^{2} + 2 c x + c + d x + d + e\n",
      "a x^{4} + b x^{3} + c x^{2} + d x + e\n",
      "4 a x^{3} + 6 a x^{2} + 4 a x + a + 3 b x^{2} + 3 b x + b + 2 c x + c + d\n"
     ]
    }
   ],
   "source": [
    "a,b,c,d,e,x=(Symbol(_) for _ in 'abcdex')\n",
    "Q = lambda x : a*x**4+b*x**3+c*x**2+d*x+e\n",
    "print(latex((Q(x+1))))\n",
    "print(latex((Q(x))))\n",
    "print(latex(expand(Q(x+1))))\n",
    "print(latex(expand(Q(x))))\n",
    "print(latex(expand(Q(x+1)-Q(x))))"
   ]
  },
  {
   "cell_type": "code",
   "execution_count": 79,
   "metadata": {},
   "outputs": [
    {
     "name": "stdout",
     "output_type": "stream",
     "text": [
      "4 a x^{3} + 6 a x^{2} + 4 a x + a + 3 b x^{2} + 3 b x + b + 2 c x + c + d - x^{3} - 3 x^{2} - 3 x - 1\n"
     ]
    }
   ],
   "source": [
    "print(latex(expand(Q(x+1)-Q(x)-(x+1)**3)))"
   ]
  },
  {
   "cell_type": "code",
   "execution_count": 80,
   "metadata": {},
   "outputs": [
    {
     "data": {
      "image/png": "[encoded data removed]",
      "text/latex": [
       "$\\displaystyle \\left\\{ a : \\frac{1}{4}, \\  b : \\frac{1}{2}, \\  c : \\frac{1}{4}, \\  d : 0\\right\\}$"
      ],
      "text/plain": [
       "{a: 1/4, b: 1/2, c: 1/4, d: 0}"
      ]
     },
     "execution_count": 80,
     "metadata": {},
     "output_type": "execute_result"
    }
   ],
   "source": [
    "solve([4*a-1,6*a+3*b-3,4*a+3*b+2*c-3,a+b+c+d-1])"
   ]
  },
  {
   "cell_type": "code",
   "execution_count": 81,
   "metadata": {},
   "outputs": [
    {
     "name": "stdout",
     "output_type": "stream",
     "text": [
      "\\frac{\\left(x + 1\\right)^{4}}{4} + \\frac{\\left(x + 1\\right)^{3}}{2} + \\frac{\\left(x + 1\\right)^{2}}{4}\n",
      "\\frac{x^{4}}{4} + \\frac{x^{3}}{2} + \\frac{x^{2}}{4}\n",
      "\\frac{x^{4}}{4} + \\frac{3 x^{3}}{2} + \\frac{13 x^{2}}{4} + 3 x + 1\n",
      "\\frac{x^{4}}{4} + \\frac{x^{3}}{2} + \\frac{x^{2}}{4}\n",
      "x^{3} + 3 x^{2} + 3 x + 1\n"
     ]
    }
   ],
   "source": [
    "a,b,c,d,e=Rational(1,4),Rational(1,2),Rational(1,4),0,0\n",
    "Q = lambda x : a*x**4+b*x**3+c*x**2+d*x+e\n",
    "print(latex((Q(x+1))))\n",
    "print(latex((Q(x))))\n",
    "print(latex(expand(Q(x+1))))\n",
    "print(latex(expand(Q(x))))\n",
    "print(latex(expand(Q(x+1)-Q(x))))"
   ]
  },
  {
   "cell_type": "code",
   "execution_count": 82,
   "metadata": {},
   "outputs": [],
   "source": [
    "P = lambda x : a*x**3+b*x**2+c*x+d"
   ]
  },
  {
   "cell_type": "code",
   "execution_count": 83,
   "metadata": {},
   "outputs": [
    {
     "name": "stdout",
     "output_type": "stream",
     "text": [
      "\\frac{3 x^{2}}{4} + \\frac{7 x}{4} + 1\n"
     ]
    }
   ],
   "source": [
    "print(latex(expand(P(x+1)-P(x))))"
   ]
  },
  {
   "cell_type": "code",
   "execution_count": 84,
   "metadata": {},
   "outputs": [
    {
     "name": "stdout",
     "output_type": "stream",
     "text": [
      "\\frac{x^{3}}{4} + \\frac{5 x^{2}}{4} + 2 x + 1\n"
     ]
    }
   ],
   "source": [
    "print(latex(expand(P(x+1))))"
   ]
  },
  {
   "cell_type": "code",
   "execution_count": 85,
   "metadata": {},
   "outputs": [
    {
     "name": "stdout",
     "output_type": "stream",
     "text": [
      "\\frac{x^{3}}{4} + \\frac{x^{2}}{2} + \\frac{x}{4}\n"
     ]
    }
   ],
   "source": [
    "print(latex(P(x)))"
   ]
  },
  {
   "cell_type": "code",
   "execution_count": 86,
   "metadata": {},
   "outputs": [
    {
     "data": {
      "image/png": "[encoded data removed]",
      "text/latex": [
       "$\\displaystyle x \\left(x + 1\\right) \\left(2 x + 1\\right)$"
      ],
      "text/plain": [
       "x⋅(x + 1)⋅(2⋅x + 1)"
      ]
     },
     "execution_count": 86,
     "metadata": {},
     "output_type": "execute_result"
    }
   ],
   "source": [
    "a,b,c,d=Rational(1,3),Rational(1,2),Rational(1,6),0\n",
    "factor(6*P(x))"
   ]
  },
  {
   "cell_type": "code",
   "execution_count": 87,
   "metadata": {},
   "outputs": [
    {
     "data": {
      "image/png": "[encoded data removed]",
      "text/latex": [
       "$\\displaystyle 0$"
      ],
      "text/plain": [
       "0"
      ]
     },
     "execution_count": 87,
     "metadata": {},
     "output_type": "execute_result"
    }
   ],
   "source": [
    "expand(P(x+1)-P(x)-(x+1)**2)"
   ]
  },
  {
   "cell_type": "code",
   "execution_count": 88,
   "metadata": {},
   "outputs": [
    {
     "name": "stdout",
     "output_type": "stream",
     "text": [
      "\\frac{x^{3}}{3} + \\frac{x^{2}}{2} + \\frac{x}{6} = \\frac16\\, x \\left(x + 1\\right) \\left(2 x + 1\\right) \n"
     ]
    }
   ],
   "source": [
    "print(latex(P(x))+\" = \\\\frac16\\\\, %s \"%latex(factor(6*P(x))))\n"
   ]
  },
  {
   "cell_type": "code",
   "execution_count": 89,
   "metadata": {},
   "outputs": [
    {
     "name": "stdout",
     "output_type": "stream",
     "text": [
      "333833500\n"
     ]
    }
   ],
   "source": [
    "print(P(1000))"
   ]
  },
  {
   "cell_type": "code",
   "execution_count": 90,
   "metadata": {},
   "outputs": [
    {
     "name": "stdout",
     "output_type": "stream",
     "text": [
      "333833500\n"
     ]
    }
   ],
   "source": [
    "print(sum([i**2 for i in range(1,1001)]))"
   ]
  },
  {
   "cell_type": "code",
   "execution_count": 91,
   "metadata": {},
   "outputs": [
    {
     "name": "stdout",
     "output_type": "stream",
     "text": [
      "250500250000\n"
     ]
    }
   ],
   "source": [
    "print(sum([i**3 for i in range(1,1001)]))"
   ]
  },
  {
   "cell_type": "code",
   "execution_count": 92,
   "metadata": {},
   "outputs": [
    {
     "data": {
      "image/png": "[encoded data removed]",
      "text/latex": [
       "$\\displaystyle 250500250000$"
      ],
      "text/plain": [
       "250500250000"
      ]
     },
     "execution_count": 92,
     "metadata": {},
     "output_type": "execute_result"
    }
   ],
   "source": [
    "Rational(1,4)*1000**2*1001**2"
   ]
  },
  {
   "cell_type": "code",
   "execution_count": null,
   "metadata": {},
   "outputs": [],
   "source": []
  }
 ],
 "metadata": {
  "kernelspec": {
   "display_name": "Python 3",
   "language": "python",
   "name": "python3"
  },
  "language_info": {
   "codemirror_mode": {
    "name": "ipython",
    "version": 3
   },
   "file_extension": ".py",
   "mimetype": "text/x-python",
   "name": "python",
   "nbconvert_exporter": "python",
   "pygments_lexer": "ipython3",
   "version": "3.7.6"
  },
  "latex_envs": {
   "LaTeX_envs_menu_present": true,
   "autocomplete": true,
   "bibliofile": "biblio.bib",
   "cite_by": "apalike",
   "current_citInitial": 1,
   "eqLabelWithNumbers": false,
   "eqNumInitial": 1,
   "hotkeys": {
    "equation": "Ctrl-E",
    "itemize": "Ctrl-I"
   },
   "labels_anchors": false,
   "latex_user_defs": false,
   "report_style_numbering": false,
   "user_envs_cfg": true
  }
 },
 "nbformat": 4,
 "nbformat_minor": 4
}
